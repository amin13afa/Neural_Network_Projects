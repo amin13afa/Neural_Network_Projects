{
 "cells": [
  {
   "cell_type": "markdown",
   "id": "27a0cc6f",
   "metadata": {},
   "source": [
    "# 1-  Importing libraries"
   ]
  },
  {
   "cell_type": "code",
   "execution_count": 2,
   "id": "5df463b0",
   "metadata": {},
   "outputs": [
    {
     "data": {
      "text/plain": [
       "'2.6.0'"
      ]
     },
     "execution_count": 2,
     "metadata": {},
     "output_type": "execute_result"
    }
   ],
   "source": [
    "import tensorflow as tf \n",
    "import matplotlib.pyplot as plt \n",
    "from tensorflow.keras.datasets import cifar10 \n",
    "\n",
    "%matplotlib inline \n",
    "tf.__version__"
   ]
  },
  {
   "cell_type": "markdown",
   "id": "11551d1f",
   "metadata": {},
   "source": [
    "# 2- Data preprocessing"
   ]
  },
  {
   "cell_type": "markdown",
   "id": "055f30dc",
   "metadata": {},
   "source": [
    "### Loading the Cifar10 dataset "
   ]
  },
  {
   "cell_type": "code",
   "execution_count": 3,
   "id": "dffc2f3b",
   "metadata": {},
   "outputs": [
    {
     "name": "stdout",
     "output_type": "stream",
     "text": [
      "Downloading data from https://www.cs.toronto.edu/~kriz/cifar-10-python.tar.gz\n",
      "170500096/170498071 [==============================] - 71s 0us/step\n",
      "170508288/170498071 [==============================] - 71s 0us/step\n"
     ]
    }
   ],
   "source": [
    "# Loading the dataset \n",
    "(X_train, y_train), (X_test, y_test) = cifar10.load_data()"
   ]
  },
  {
   "cell_type": "code",
   "execution_count": 4,
   "id": "5da027f2",
   "metadata": {},
   "outputs": [],
   "source": [
    "# Setting class names in the dataset\n",
    "classes = ['airplane', 'automobile', 'bird', 'cat', 'deer',\n",
    "           'dog', 'frog', 'horse', 'ship', 'truck']"
   ]
  },
  {
   "cell_type": "code",
   "execution_count": 9,
   "id": "57eceff9",
   "metadata": {},
   "outputs": [
    {
     "data": {
      "image/png": "[encoded data removed]",
      "text/plain": [
       "<Figure size 432x288 with 1 Axes>"
      ]
     },
     "metadata": {
      "needs_background": "light"
     },
     "output_type": "display_data"
    }
   ],
   "source": [
    "plt.imshow(X_train[4])\n",
    "plt.show()"
   ]
  },
  {
   "cell_type": "markdown",
   "id": "f9d067de",
   "metadata": {},
   "source": [
    "### Image normalization"
   ]
  },
  {
   "cell_type": "code",
   "execution_count": 10,
   "id": "2656e885",
   "metadata": {},
   "outputs": [],
   "source": [
    "X_train = X_train / 255.0"
   ]
  },
  {
   "cell_type": "code",
   "execution_count": 11,
   "id": "aeb36be5",
   "metadata": {},
   "outputs": [],
   "source": [
    "X_test = X_test / 255.0 "
   ]
  },
  {
   "cell_type": "code",
   "execution_count": 16,
   "id": "629714b3",
   "metadata": {},
   "outputs": [
    {
     "name": "stdout",
     "output_type": "stream",
     "text": [
      "(50000, 32, 32, 3) \n",
      " (10000, 32, 32, 3)\n"
     ]
    }
   ],
   "source": [
    "print(X_train.shape , '\\n', X_test.shape)"
   ]
  },
  {
   "cell_type": "code",
   "execution_count": 12,
   "id": "c21fe90d",
   "metadata": {},
   "outputs": [
    {
     "data": {
      "image/png": "[encoded data removed]",
      "text/plain": [
       "<Figure size 432x288 with 1 Axes>"
      ]
     },
     "metadata": {
      "needs_background": "light"
     },
     "output_type": "display_data"
    }
   ],
   "source": [
    "plt.imshow(X_train[4])\n",
    "plt.show()"
   ]
  },
  {
   "cell_type": "markdown",
   "id": "5a6e4eca",
   "metadata": {},
   "source": [
    "# Building a Convolutional Neural Network "
   ]
  },
  {
   "cell_type": "markdown",
   "id": "4adb1050",
   "metadata": {},
   "source": [
    "### Defining the model"
   ]
  },
  {
   "cell_type": "code",
   "execution_count": 13,
   "id": "e53d0f92",
   "metadata": {},
   "outputs": [],
   "source": [
    "model = tf.keras.models.Sequential()"
   ]
  },
  {
   "cell_type": "markdown",
   "id": "60e048c9",
   "metadata": {},
   "source": [
    "### Adding the first convolutional layer"
   ]
  },
  {
   "cell_type": "markdown",
   "id": "5b449298",
   "metadata": {},
   "source": [
    "CNN layer hyper-parameters:\n",
    "\n",
    "- filters: 32\n",
    "\n",
    "- kernel_size: 3\n",
    "\n",
    "- padding: same\n",
    "\n",
    "- activation: relu\n",
    "\n",
    "- input_shape: (32, 32, 3)"
   ]
  },
  {
   "cell_type": "code",
   "execution_count": 18,
   "id": "d066e78b",
   "metadata": {},
   "outputs": [],
   "source": [
    "model.add(tf.keras.layers.Conv2D(filters=32, kernel_size=3, padding=\"same\",\n",
    "                                activation=\"relu\", input_shape=[32,32,3]))"
   ]
  },
  {
   "cell_type": "markdown",
   "id": "8bd080cd",
   "metadata": {},
   "source": [
    "### Adding the second convolutional layer and the max-pooling layer"
   ]
  },
  {
   "cell_type": "markdown",
   "id": "28ac9496",
   "metadata": {},
   "source": [
    "CNN layer hyper-parameters:\n",
    "\n",
    "- filters: 32\n",
    "\n",
    "- kernel_size:3\n",
    "\n",
    "- padding: same\n",
    "\n",
    "- activation: relu\n",
    "\n",
    "MaxPool layer hyper-parameters:\n",
    "\n",
    "- pool_size: 2\n",
    "\n",
    "- strides: 2\n",
    "\n",
    "- padding: valid"
   ]
  },
  {
   "cell_type": "code",
   "execution_count": 19,
   "id": "e60633a5",
   "metadata": {},
   "outputs": [],
   "source": [
    "model.add(tf.keras.layers.Conv2D(filters=32, kernel_size=3,\n",
    "                                padding=\"same\",activation=\"relu\"))"
   ]
  },
  {
   "cell_type": "code",
   "execution_count": 20,
   "id": "b19896f5",
   "metadata": {},
   "outputs": [],
   "source": [
    "model.add(tf.keras.layers.MaxPooling2D(pool_size=2, strides=2, padding=\"valid\"))"
   ]
  },
  {
   "cell_type": "markdown",
   "id": "f5944c08",
   "metadata": {},
   "source": [
    "### Adding the third convolutional layer"
   ]
  },
  {
   "cell_type": "markdown",
   "id": "061b2767",
   "metadata": {},
   "source": [
    "CNN layer hyper-parameters: \n",
    "```\n",
    "filters: 64\n",
    "kernel_size:3\n",
    "padding: same\n",
    "activation: relu\n",
    "```"
   ]
  },
  {
   "cell_type": "code",
   "execution_count": 21,
   "id": "58a5836f",
   "metadata": {},
   "outputs": [],
   "source": [
    "model.add(tf.keras.layers.Conv2D(filters=64, kernel_size=3, padding=\"same\", activation=\"relu\"))"
   ]
  },
  {
   "cell_type": "markdown",
   "id": "e4021c7d",
   "metadata": {},
   "source": [
    "### Adding the fourth convolutional layer and max-pooling layer"
   ]
  },
  {
   "cell_type": "markdown",
   "id": "ac05641f",
   "metadata": {},
   "source": [
    "CNN layer hyper-parameters: \n",
    "```\n",
    "filters: 64\n",
    "kernel_size:3\n",
    "padding: same\n",
    "activation: relu\n",
    "```"
   ]
  },
  {
   "cell_type": "code",
   "execution_count": 22,
   "id": "9c2ce856",
   "metadata": {},
   "outputs": [],
   "source": [
    "model.add(tf.keras.layers.Conv2D(filters=64, kernel_size=3, padding=\"same\", activation=\"relu\"))"
   ]
  },
  {
   "cell_type": "markdown",
   "id": "066c6637",
   "metadata": {},
   "source": [
    "MaxPool layer hyper-parameters: \n",
    "```\n",
    "pool_size: 2\n",
    "strides: 2\n",
    "padding: valid\n",
    "```"
   ]
  },
  {
   "cell_type": "code",
   "execution_count": 23,
   "id": "499d0352",
   "metadata": {},
   "outputs": [],
   "source": [
    "model.add(tf.keras.layers.MaxPooling2D(pool_size=2, strides=2, padding=\"valid\"))"
   ]
  },
  {
   "cell_type": "markdown",
   "id": "0cbe5553",
   "metadata": {},
   "source": [
    "### Adding the flattening layer"
   ]
  },
  {
   "cell_type": "code",
   "execution_count": 24,
   "id": "5ccf86d2",
   "metadata": {},
   "outputs": [],
   "source": [
    "model.add(tf.keras.layers.Flatten())"
   ]
  },
  {
   "cell_type": "markdown",
   "id": "5d5482c3",
   "metadata": {},
   "source": [
    "### Adding the first fully-connected layer"
   ]
  },
  {
   "cell_type": "markdown",
   "id": "08bf074b",
   "metadata": {},
   "source": [
    "Dense layer hyper-parameters:\n",
    "\n",
    "    units/neurons: 128\n",
    "    activation: relu"
   ]
  },
  {
   "cell_type": "code",
   "execution_count": 25,
   "id": "50ec0ef0",
   "metadata": {},
   "outputs": [],
   "source": [
    "model.add(tf.keras.layers.Dense(units=128, activation=\"relu\"))"
   ]
  },
  {
   "cell_type": "markdown",
   "id": "4299414d",
   "metadata": {},
   "source": [
    "### Adding the output layer"
   ]
  },
  {
   "cell_type": "markdown",
   "id": "c5c20ec0",
   "metadata": {},
   "source": [
    "Dense layer hyper-parameters:\n",
    "\n",
    "    units/neurons: 10 (number of classes)\n",
    "    activation: softmax"
   ]
  },
  {
   "cell_type": "code",
   "execution_count": 26,
   "id": "6a8407ed",
   "metadata": {},
   "outputs": [],
   "source": [
    "model.add(tf.keras.layers.Dense(units=10, activation=\"softmax\"))"
   ]
  },
  {
   "cell_type": "markdown",
   "id": "1f49f1f2",
   "metadata": {},
   "source": [
    "### Summary of model"
   ]
  },
  {
   "cell_type": "code",
   "execution_count": 27,
   "id": "4f8b8fdb",
   "metadata": {},
   "outputs": [
    {
     "name": "stdout",
     "output_type": "stream",
     "text": [
      "Model: \"sequential\"\n",
      "_________________________________________________________________\n",
      "Layer (type)                 Output Shape              Param #   \n",
      "=================================================================\n",
      "conv2d_1 (Conv2D)            (None, 32, 32, 32)        896       \n",
      "_________________________________________________________________\n",
      "conv2d_2 (Conv2D)            (None, 32, 32, 32)        9248      \n",
      "_________________________________________________________________\n",
      "max_pooling2d (MaxPooling2D) (None, 16, 16, 32)        0         \n",
      "_________________________________________________________________\n",
      "conv2d_3 (Conv2D)            (None, 16, 16, 64)        18496     \n",
      "_________________________________________________________________\n",
      "conv2d_4 (Conv2D)            (None, 16, 16, 64)        36928     \n",
      "_________________________________________________________________\n",
      "max_pooling2d_1 (MaxPooling2 (None, 8, 8, 64)          0         \n",
      "_________________________________________________________________\n",
      "flatten (Flatten)            (None, 4096)              0         \n",
      "_________________________________________________________________\n",
      "dense (Dense)                (None, 128)               524416    \n",
      "_________________________________________________________________\n",
      "dense_1 (Dense)              (None, 10)                1290      \n",
      "=================================================================\n",
      "Total params: 591,274\n",
      "Trainable params: 591,274\n",
      "Non-trainable params: 0\n",
      "_________________________________________________________________\n"
     ]
    }
   ],
   "source": [
    "model.summary()"
   ]
  },
  {
   "cell_type": "markdown",
   "id": "6e006fac",
   "metadata": {},
   "source": [
    "### Compiling the model"
   ]
  },
  {
   "cell_type": "markdown",
   "id": "be81df04",
   "metadata": {},
   "source": [
    "sparse_categorical_accuracy\n",
    "\n",
    "sparse_categorical_accuracy checks to see if the maximal true value is equal to the index of the maximal predicted value. \n",
    "\n",
    "https://stackoverflow.com/questions/44477489/keras-difference-between-categorical-accuracy-and-sparse-categorical-accuracy "
   ]
  },
  {
   "cell_type": "code",
   "execution_count": 28,
   "id": "60f00f4a",
   "metadata": {},
   "outputs": [],
   "source": [
    "model.compile(optimizer= \"Adam\", loss=\"sparse_categorical_crossentropy\", \n",
    "             metrics=\"sparse_categorical_accuracy\")"
   ]
  },
  {
   "cell_type": "code",
   "execution_count": 29,
   "id": "71983207",
   "metadata": {},
   "outputs": [
    {
     "name": "stderr",
     "output_type": "stream",
     "text": [
      "<frozen importlib._bootstrap>:219: RuntimeWarning: numpy.ufunc size changed, may indicate binary incompatibility. Expected 216 from C header, got 232 from PyObject\n"
     ]
    },
    {
     "name": "stdout",
     "output_type": "stream",
     "text": [
      "Epoch 1/5\n",
      "1563/1563 [==============================] - 157s 100ms/step - loss: 1.4019 - sparse_categorical_accuracy: 0.4930\n",
      "Epoch 2/5\n",
      "1563/1563 [==============================] - 159s 102ms/step - loss: 0.9294 - sparse_categorical_accuracy: 0.6723\n",
      "Epoch 3/5\n",
      "1563/1563 [==============================] - 182s 117ms/step - loss: 0.7483 - sparse_categorical_accuracy: 0.7378\n",
      "Epoch 4/5\n",
      "1563/1563 [==============================] - 120s 77ms/step - loss: 0.6201 - sparse_categorical_accuracy: 0.7819\n",
      "Epoch 5/5\n",
      "1563/1563 [==============================] - 119s 76ms/step - loss: 0.5158 - sparse_categorical_accuracy: 0.8185\n"
     ]
    },
    {
     "data": {
      "text/plain": [
       "<keras.callbacks.History at 0x7f2bc7005fa0>"
      ]
     },
     "execution_count": 29,
     "metadata": {},
     "output_type": "execute_result"
    }
   ],
   "source": [
    "model.fit(X_train, y_train, epochs=5)"
   ]
  },
  {
   "cell_type": "markdown",
   "id": "3f101fae",
   "metadata": {},
   "source": [
    "### Evaluating the model"
   ]
  },
  {
   "cell_type": "code",
   "execution_count": 30,
   "id": "4ce9c9a1",
   "metadata": {},
   "outputs": [
    {
     "name": "stdout",
     "output_type": "stream",
     "text": [
      "313/313 [==============================] - 6s 20ms/step - loss: 0.7970 - sparse_categorical_accuracy: 0.7399\n"
     ]
    }
   ],
   "source": [
    "test_loss, test_accuracy = model.evaluate(X_test, y_test)"
   ]
  },
  {
   "cell_type": "code",
   "execution_count": 31,
   "id": "04b0364b",
   "metadata": {},
   "outputs": [
    {
     "name": "stdout",
     "output_type": "stream",
     "text": [
      "Test accuracy: 0.7398999929428101\n"
     ]
    }
   ],
   "source": [
    "print(\"Test accuracy: {}\".format(test_accuracy))"
   ]
  },
  {
   "cell_type": "code",
   "execution_count": null,
   "id": "76879178",
   "metadata": {},
   "outputs": [],
   "source": []
  }
 ],
 "metadata": {
  "kernelspec": {
   "display_name": "Python 3",
   "language": "python",
   "name": "python3"
  },
  "language_info": {
   "codemirror_mode": {
    "name": "ipython",
    "version": 3
   },
   "file_extension": ".py",
   "mimetype": "text/x-python",
   "name": "python",
   "nbconvert_exporter": "python",
   "pygments_lexer": "ipython3",
   "version": "3.8.8"
  }
 },
 "nbformat": 4,
 "nbformat_minor": 5
}
