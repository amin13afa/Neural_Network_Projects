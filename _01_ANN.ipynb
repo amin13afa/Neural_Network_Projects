{
 "cells": [
  {
   "cell_type": "markdown",
   "id": "602efad3",
   "metadata": {},
   "source": [
    "<img src=\"mnist_fashion.png\"  />"
   ]
  },
  {
   "cell_type": "markdown",
   "id": "9127f538",
   "metadata": {},
   "source": [
    "<img src=\"mnist_fashion.png\" width=\"400\" height=\"200\" />"
   ]
  },
  {
   "cell_type": "markdown",
   "id": "85d1e502",
   "metadata": {},
   "source": [
    "## Step 1\n",
    "### Installing dependencies and setting up a GPU environment"
   ]
  },
  {
   "cell_type": "markdown",
   "id": "43090bec",
   "metadata": {},
   "source": [
    "## Step2\n",
    "### Importing the libraries and the dataset"
   ]
  },
  {
   "cell_type": "code",
   "execution_count": 1,
   "id": "df773a0e",
   "metadata": {},
   "outputs": [],
   "source": [
    "import numpy as np \n",
    "import datetime \n",
    "import tensorflow as tf \n",
    "from tensorflow.keras.datasets import fashion_mnist"
   ]
  },
  {
   "cell_type": "code",
   "execution_count": 2,
   "id": "41f96696",
   "metadata": {},
   "outputs": [
    {
     "data": {
      "text/plain": [
       "'2.6.0'"
      ]
     },
     "execution_count": 2,
     "metadata": {},
     "output_type": "execute_result"
    }
   ],
   "source": [
    "tf.__version__"
   ]
  },
  {
   "cell_type": "markdown",
   "id": "c733df88",
   "metadata": {},
   "source": [
    "## Step3\n",
    "### Data Preprocessing"
   ]
  },
  {
   "cell_type": "markdown",
   "id": "a2cfcebb",
   "metadata": {},
   "source": [
    "#### Loading the dataset"
   ]
  },
  {
   "cell_type": "code",
   "execution_count": 3,
   "id": "f9e63b47",
   "metadata": {},
   "outputs": [],
   "source": [
    "(X_train, y_train),(X_test, y_test) = fashion_mnist.load_data()"
   ]
  },
  {
   "cell_type": "markdown",
   "id": "2688c1c6",
   "metadata": {},
   "source": [
    "#### Normalizing the images"
   ]
  },
  {
   "cell_type": "markdown",
   "id": "9c8fc10d",
   "metadata": {},
   "source": [
    "We divide each pixel of the image in the training and test sets by the maximum number of pixels (255).\n",
    "\n",
    "In this way each pixel will be in the range [0, 1].\n",
    "\n",
    "By normalizing images we make sure that our model (ANN) trains faster."
   ]
  },
  {
   "cell_type": "code",
   "execution_count": 4,
   "id": "afacc726",
   "metadata": {},
   "outputs": [],
   "source": [
    "X_train = X_train/255.0"
   ]
  },
  {
   "cell_type": "code",
   "execution_count": 5,
   "id": "aa4953d1",
   "metadata": {},
   "outputs": [],
   "source": [
    "X_test = X_test/255.0"
   ]
  },
  {
   "cell_type": "markdown",
   "id": "84dca3f2",
   "metadata": {},
   "source": [
    "#### Reshaping the dataset"
   ]
  },
  {
   "cell_type": "markdown",
   "id": "87b9797f",
   "metadata": {},
   "source": [
    "Since we are building a fully connected network, we reshape the training set and the test set to be into the vector format."
   ]
  },
  {
   "cell_type": "markdown",
   "id": "6f836a4f",
   "metadata": {},
   "source": [
    "Since each image's dimension is 28x28, we reshape the full dataset to\n",
    "\n",
    "[-1 (all elements), height * width]"
   ]
  },
  {
   "cell_type": "code",
   "execution_count": 6,
   "id": "d5000061",
   "metadata": {},
   "outputs": [],
   "source": [
    "X_train = X_train.reshape(-1,28*28) "
   ]
  },
  {
   "cell_type": "code",
   "execution_count": 7,
   "id": "59a372ac",
   "metadata": {},
   "outputs": [
    {
     "data": {
      "text/plain": [
       "(60000, 784)"
      ]
     },
     "execution_count": 7,
     "metadata": {},
     "output_type": "execute_result"
    }
   ],
   "source": [
    "X_train.shape"
   ]
  },
  {
   "cell_type": "markdown",
   "id": "2d41d01d",
   "metadata": {},
   "source": [
    " We reshape the test set the same way"
   ]
  },
  {
   "cell_type": "code",
   "execution_count": 8,
   "id": "1f146f9f",
   "metadata": {},
   "outputs": [],
   "source": [
    "X_test = X_test.reshape(-1,28*28)"
   ]
  },
  {
   "cell_type": "markdown",
   "id": "90451ccc",
   "metadata": {},
   "source": [
    "## Step4 \n",
    "### Building an Artificial Neural Network"
   ]
  },
  {
   "cell_type": "markdown",
   "id": "5af49195",
   "metadata": {},
   "source": [
    "#### Defining the model"
   ]
  },
  {
   "cell_type": "markdown",
   "id": "da4006af",
   "metadata": {},
   "source": [
    "Simply define an object of the Sequential model."
   ]
  },
  {
   "cell_type": "code",
   "execution_count": 9,
   "id": "6903ddd3",
   "metadata": {},
   "outputs": [],
   "source": [
    "model = tf.keras.models.Sequential()"
   ]
  },
  {
   "cell_type": "markdown",
   "id": "ce53796f",
   "metadata": {},
   "source": [
    "#### Adding a first fully-connected hidden layer "
   ]
  },
  {
   "cell_type": "markdown",
   "id": "64ebc251",
   "metadata": {},
   "source": [
    "Layer hyper-parameters: \n",
    "\n",
    "- number of units/neurons: 128\n",
    "\n",
    "- activation function: ReLU\n",
    "\n",
    "- input_shape: (784, )"
   ]
  },
  {
   "cell_type": "code",
   "execution_count": 10,
   "id": "04333da8",
   "metadata": {},
   "outputs": [],
   "source": [
    "model.add(tf.keras.layers.Dense(units=128, activation='relu', \n",
    "                               input_shape=(784, )))"
   ]
  },
  {
   "cell_type": "markdown",
   "id": "9da25ae6",
   "metadata": {},
   "source": [
    "#### Adding a second layer with Dropout"
   ]
  },
  {
   "cell_type": "markdown",
   "id": "18b277bc",
   "metadata": {},
   "source": [
    "Dropout is a Regularization technique where we randomly set neurons in a layer to zero. \n",
    "\n",
    "That way while training those neurons won't be updated.\n",
    "\n",
    "Because some percentage of neurons won't be updated the whole training process is long and we have less chance for overfitting."
   ]
  },
  {
   "cell_type": "code",
   "execution_count": 12,
   "id": "cab32945",
   "metadata": {},
   "outputs": [],
   "source": [
    "model.add(tf.keras.layers.Dropout(0.2))"
   ]
  },
  {
   "cell_type": "markdown",
   "id": "e2904091",
   "metadata": {},
   "source": [
    "#### Adding the output layer"
   ]
  },
  {
   "cell_type": "markdown",
   "id": "ca253853",
   "metadata": {},
   "source": [
    "- units: number of classes (10 in the Fashion MNIST dataset)\n",
    "\n",
    "- activation: softmax"
   ]
  },
  {
   "cell_type": "code",
   "execution_count": 13,
   "id": "de7851e6",
   "metadata": {},
   "outputs": [],
   "source": [
    "model.add(tf.keras.layers.Dense(units=10, activation='softmax'))"
   ]
  },
  {
   "cell_type": "markdown",
   "id": "2f9500c9",
   "metadata": {},
   "source": [
    "#### Compiling the model"
   ]
  },
  {
   "cell_type": "markdown",
   "id": "5737ca5b",
   "metadata": {},
   "source": [
    "- Optimizer: Adam\n",
    "\n",
    "- Loss: Sparse softmax (categorical) crossentropy"
   ]
  },
  {
   "cell_type": "code",
   "execution_count": 14,
   "id": "26065179",
   "metadata": {},
   "outputs": [],
   "source": [
    "model.compile(optimizer='Adam', loss='sparse_categorical_crossentropy', \n",
    "             metrics='sparse_categorical_accuracy') "
   ]
  },
  {
   "cell_type": "code",
   "execution_count": 15,
   "id": "d803eb1e",
   "metadata": {
    "scrolled": true
   },
   "outputs": [
    {
     "name": "stdout",
     "output_type": "stream",
     "text": [
      "Model: \"sequential\"\n",
      "_________________________________________________________________\n",
      "Layer (type)                 Output Shape              Param #   \n",
      "=================================================================\n",
      "dense (Dense)                (None, 128)               100480    \n",
      "_________________________________________________________________\n",
      "dropout (Dropout)            (None, 128)               0         \n",
      "_________________________________________________________________\n",
      "dense_1 (Dense)              (None, 10)                1290      \n",
      "=================================================================\n",
      "Total params: 101,770\n",
      "Trainable params: 101,770\n",
      "Non-trainable params: 0\n",
      "_________________________________________________________________\n"
     ]
    }
   ],
   "source": [
    "model.summary()"
   ]
  },
  {
   "cell_type": "code",
   "execution_count": 16,
   "id": "5ede3ac2",
   "metadata": {},
   "outputs": [
    {
     "name": "stderr",
     "output_type": "stream",
     "text": [
      "<frozen importlib._bootstrap>:219: RuntimeWarning: numpy.ufunc size changed, may indicate binary incompatibility. Expected 216 from C header, got 232 from PyObject\n"
     ]
    },
    {
     "name": "stdout",
     "output_type": "stream",
     "text": [
      "Epoch 1/5\n",
      "1875/1875 [==============================] - 5s 2ms/step - loss: 0.5249 - sparse_categorical_accuracy: 0.8125\n",
      "Epoch 2/5\n",
      "1875/1875 [==============================] - 5s 3ms/step - loss: 0.4006 - sparse_categorical_accuracy: 0.8539\n",
      "Epoch 3/5\n",
      "1875/1875 [==============================] - 5s 2ms/step - loss: 0.3666 - sparse_categorical_accuracy: 0.8661\n",
      "Epoch 4/5\n",
      "1875/1875 [==============================] - 3s 2ms/step - loss: 0.3459 - sparse_categorical_accuracy: 0.8732\n",
      "Epoch 5/5\n",
      "1875/1875 [==============================] - 3s 2ms/step - loss: 0.3306 - sparse_categorical_accuracy: 0.8792\n"
     ]
    },
    {
     "data": {
      "text/plain": [
       "<keras.callbacks.History at 0x7f1d299325b0>"
      ]
     },
     "execution_count": 16,
     "metadata": {},
     "output_type": "execute_result"
    }
   ],
   "source": [
    "model.fit(X_train, y_train, epochs=5)"
   ]
  },
  {
   "cell_type": "markdown",
   "id": "91f62672",
   "metadata": {},
   "source": [
    "#### Model evaluation and prediction"
   ]
  },
  {
   "cell_type": "code",
   "execution_count": 17,
   "id": "6e9b8b3b",
   "metadata": {},
   "outputs": [
    {
     "name": "stdout",
     "output_type": "stream",
     "text": [
      "313/313 [==============================] - 1s 2ms/step - loss: 0.3558 - sparse_categorical_accuracy: 0.8726\n"
     ]
    }
   ],
   "source": [
    "test_loss, test_accuracy = model.evaluate(X_test, y_test) "
   ]
  },
  {
   "cell_type": "code",
   "execution_count": 18,
   "id": "61a9c946",
   "metadata": {},
   "outputs": [
    {
     "name": "stdout",
     "output_type": "stream",
     "text": [
      "Test Accuracy = 0.8726000189781189\n"
     ]
    }
   ],
   "source": [
    "print(\"Test Accuracy = {}\".format(test_accuracy))"
   ]
  },
  {
   "cell_type": "code",
   "execution_count": null,
   "id": "b82c3b67",
   "metadata": {},
   "outputs": [],
   "source": []
  }
 ],
 "metadata": {
  "kernelspec": {
   "display_name": "Python 3",
   "language": "python",
   "name": "python3"
  },
  "language_info": {
   "codemirror_mode": {
    "name": "ipython",
    "version": 3
   },
   "file_extension": ".py",
   "mimetype": "text/x-python",
   "name": "python",
   "nbconvert_exporter": "python",
   "pygments_lexer": "ipython3",
   "version": "3.8.8"
  }
 },
 "nbformat": 4,
 "nbformat_minor": 5
}
